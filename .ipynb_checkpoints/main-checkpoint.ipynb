{
 "cells": [
  {
   "cell_type": "markdown",
   "metadata": {},
   "source": [
    "# **Research Example - DeepBind (2015)**"
   ]
  },
  {
   "attachments": {
    "image.png": {
     "image/png": "[encoded data removed]"
    }
   },
   "cell_type": "markdown",
   "metadata": {},
   "source": [
    "## **1. Preprocess**\n",
    "### 1.1. Load the raw data of ***ALX homeobox protein 1*** (SELEX sequencing data) \n",
    "- reference - http://tools.genes.toronto.edu/deepbind/D00289.002/index.html![image.png](attachment:image.png)\n",
    "- download \n",
    "    - [Training raw dataset](https://1drv.ms/u/s!AljTCh5CK9KvgYltlkAVHPv7kbdytg?e=qBtIgu) \n",
    "    - [Testing raw dataset](https://1drv.ms/u/s!AljTCh5CK9KvgYlsgGwcmTp5L-35iQ?e=k8eUxH) "
   ]
  },
  {
   "cell_type": "code",
   "execution_count": 1,
   "metadata": {},
   "outputs": [
    {
     "name": "stdout",
     "output_type": "stream",
     "text": [
      "Load Alx1_DBD_TAAAGC20NCG_3_Z_B.seq finish (255508 lines, #positive: 127754, #negative: 127754)\n",
      "- sequence sizes : {20}\n",
      "Load Alx1_DBD_TAAAGC20NCG_3_Z_A.seq finish (128012 lines, #positive: 128012, #negative: 0)\n",
      "- sequence sizes : {20}\n"
     ]
    }
   ],
   "source": [
    "from collections import defaultdict\n",
    "import numpy as np\n",
    "\n",
    "def raw_seq_parser(path):\n",
    "    f = open(path, \"r\")\n",
    "    seqs = []\n",
    "    seq_lens = []\n",
    "    labels = []\n",
    "    flines = f.readlines()\n",
    "    cols = None\n",
    "    for i, line in enumerate(flines):\n",
    "        if not i :\n",
    "            cols = line.replace(\"\\n\",\"\").split(\"\\t\")\n",
    "        else:\n",
    "            fold_id, event_id, seq, bound = line.replace(\"\\n\",\"\").split(\"\\t\")\n",
    "            seqs.append(seq)\n",
    "            labels.append(int(bound))\n",
    "            seq_lens.append(len(seq))\n",
    "            \n",
    "    num_pos = sum(labels)\n",
    "    num_neg = len(labels) - num_pos\n",
    "    print(\"Load {} finish ({} lines, #positive: {}, #negative: {})\".format(path, len(labels), num_pos, num_neg))\n",
    "    print(\"- sequence sizes : {}\".format(set(seq_lens)))\n",
    "    \n",
    "    return seqs, labels\n",
    "\n",
    "\n",
    "# path of raw data\n",
    "TRAIN_RAW = \"Alx1_DBD_TAAAGC20NCG_3_Z_B.seq\"\n",
    "TEST_RAW  = \"Alx1_DBD_TAAAGC20NCG_3_Z_A.seq\"\n",
    "    \n",
    "train_seqs, y = raw_seq_parser(TRAIN_RAW)\n",
    "test_seqs, test_y = raw_seq_parser(TEST_RAW)"
   ]
  },
  {
   "cell_type": "markdown",
   "metadata": {},
   "source": [
    "### 1.2. DNA sequence encoding\n",
    "- Baseline: one-hot encoding\n",
    "- Due to the length of all sequences in the dataset is same (20bp), we don't need the encoding methods for variable length data"
   ]
  },
  {
   "cell_type": "code",
   "execution_count": 2,
   "metadata": {},
   "outputs": [
    {
     "name": "stdout",
     "output_type": "stream",
     "text": [
      "One-hot encoding finished, with feature shape (255508, 20, 4)\n",
      "One-hot encoding finished, with feature shape (128012, 20, 4)\n"
     ]
    }
   ],
   "source": [
    "def onehot_encoder(seqs, letters=\"ACGT\"):\n",
    "    enc = defaultdict(lambda: np.array([1/len(letters)]*len(letters))) # default. [0.25,0.25,0.25,0.25]\n",
    "    for i,l in enumerate(letters):\n",
    "        f      = np.zeros(len(letters))\n",
    "        f[i]   = 1\n",
    "        enc[l] = f\n",
    "        \n",
    "    onehot_features = []\n",
    "    for seq in seqs:\n",
    "        feature = []\n",
    "        for c in seq.upper():\n",
    "            feature.append(enc[c])\n",
    "        onehot_features.append(feature)\n",
    "    onehot_features = np.array(onehot_features)\n",
    "    print(\"One-hot encoding finished, with feature shape {}\".format(onehot_features.shape))\n",
    "    return onehot_features\n",
    "\n",
    "X = onehot_encoder(train_seqs)\n",
    "test_x = onehot_encoder(test_seqs)"
   ]
  },
  {
   "cell_type": "markdown",
   "metadata": {},
   "source": [
    "### 1.3. Split Train & Valid dataset \n",
    "- The testset has only positive class\n",
    "- Most evaluation metrices of binary classification problem need negative class\n",
    "- We split the training set to train and valid datasets\n",
    "- The testset only used when the model training is finished"
   ]
  },
  {
   "cell_type": "code",
   "execution_count": 3,
   "metadata": {},
   "outputs": [
    {
     "name": "stdout",
     "output_type": "stream",
     "text": [
      "Train set | x: (171190, 20, 4), y: (171190,) \n",
      "Valid set | x: (84318, 20, 4), y: (84318,)\n"
     ]
    }
   ],
   "source": [
    "from sklearn.model_selection import train_test_split\n",
    "\n",
    "X, y = np.array(X), np.array(y) # convert python-list to numpy-array\n",
    "\n",
    "train_x, valid_x, train_y, valid_y = train_test_split(X, y, \n",
    "                                                      test_size=0.33, # ratio of size of train-test set splitting\n",
    "                                                      random_state=42) # random-seed\n",
    "\n",
    "print(\"Train set | x: {}, y: {} \\nValid set | x: {}, y: {}\".format(train_x.shape,\n",
    "                                                                   train_y.shape,\n",
    "                                                                   valid_x.shape,\n",
    "                                                                   valid_y.shape))"
   ]
  },
  {
   "cell_type": "code",
   "execution_count": 4,
   "metadata": {},
   "outputs": [
    {
     "name": "stdout",
     "output_type": "stream",
     "text": [
      "(5000, 80) (5000, 80) (1000, 80)\n",
      "(5000,) (5000,) (1000,)\n"
     ]
    }
   ],
   "source": [
    "train_x = train_x.reshape(-1, 80)[:5000]\n",
    "valid_x = valid_x.reshape(-1, 80)[:5000]\n",
    "test_x  = test_x.reshape(-1, 80)[:1000]\n",
    "\n",
    "train_y = np.array(train_y[:5000])\n",
    "valid_y = np.array(valid_y[:5000])\n",
    "test_y  = np.array(test_y[:1000])\n",
    "\n",
    "print(train_x.shape, valid_x.shape, test_x.shape)\n",
    "print(train_y.shape, valid_y.shape, test_y.shape)"
   ]
  },
  {
   "cell_type": "markdown",
   "metadata": {},
   "source": [
    "## **2. Binary Classifiers**\n",
    "### 2.X. Random Forest Classifier"
   ]
  },
  {
   "cell_type": "code",
   "execution_count": 5,
   "metadata": {},
   "outputs": [
    {
     "data": {
      "text/plain": [
       "RandomForestClassifier(bootstrap=True, ccp_alpha=0.0, class_weight='balanced',\n",
       "                       criterion='gini', max_depth=10, max_features='auto',\n",
       "                       max_leaf_nodes=None, max_samples=None,\n",
       "                       min_impurity_decrease=0.0, min_impurity_split=None,\n",
       "                       min_samples_leaf=1, min_samples_split=2,\n",
       "                       min_weight_fraction_leaf=0.0, n_estimators=200,\n",
       "                       n_jobs=None, oob_score=False, random_state=None,\n",
       "                       verbose=0, warm_start=False)"
      ]
     },
     "execution_count": 5,
     "metadata": {},
     "output_type": "execute_result"
    }
   ],
   "source": [
    "from sklearn.ensemble import RandomForestClassifier\n",
    "\n",
    "model = RandomForestClassifier(class_weight = \"balanced\", # just for class imbalance\n",
    "                               n_estimators = 200, # number of decision trees (hyper-param)\n",
    "                               max_depth    = 10)  # maximum tree depth (hyper-param)\n",
    "\n",
    "model # print model description"
   ]
  },
  {
   "cell_type": "code",
   "execution_count": 6,
   "metadata": {},
   "outputs": [
    {
     "data": {
      "text/plain": [
       "RandomForestClassifier(bootstrap=True, ccp_alpha=0.0, class_weight='balanced',\n",
       "                       criterion='gini', max_depth=10, max_features='auto',\n",
       "                       max_leaf_nodes=None, max_samples=None,\n",
       "                       min_impurity_decrease=0.0, min_impurity_split=None,\n",
       "                       min_samples_leaf=1, min_samples_split=2,\n",
       "                       min_weight_fraction_leaf=0.0, n_estimators=200,\n",
       "                       n_jobs=None, oob_score=False, random_state=None,\n",
       "                       verbose=0, warm_start=False)"
      ]
     },
     "execution_count": 6,
     "metadata": {},
     "output_type": "execute_result"
    }
   ],
   "source": [
    "model.fit(train_x, train_y)"
   ]
  },
  {
   "cell_type": "markdown",
   "metadata": {},
   "source": [
    "## **3. Model Evaluations**\n",
    "### 3.X. Receiver operating characteristic (ROC)"
   ]
  },
  {
   "cell_type": "code",
   "execution_count": 7,
   "metadata": {},
   "outputs": [
    {
     "data": {
      "image/png": "[encoded data removed]",
      "text/plain": [
       "<Figure size 432x288 with 1 Axes>"
      ]
     },
     "metadata": {
      "needs_background": "light"
     },
     "output_type": "display_data"
    }
   ],
   "source": [
    "import matplotlib.pyplot as plt\n",
    "from sklearn import datasets, metrics, model_selection\n",
    "\n",
    "metrics.plot_roc_curve(model, valid_x, valid_y)\n",
    "plt.show()"
   ]
  },
  {
   "cell_type": "code",
   "execution_count": 8,
   "metadata": {},
   "outputs": [
    {
     "name": "stdout",
     "output_type": "stream",
     "text": [
      "              precision    recall  f1-score   support\n",
      "\n",
      "           0       0.82      0.87      0.84      2567\n",
      "           1       0.85      0.80      0.83      2433\n",
      "\n",
      "    accuracy                           0.84      5000\n",
      "   macro avg       0.84      0.84      0.84      5000\n",
      "weighted avg       0.84      0.84      0.84      5000\n",
      "\n"
     ]
    }
   ],
   "source": [
    "valid_pred_y = model.predict(valid_x)\n",
    "print(metrics.classification_report(valid_y, valid_pred_y))"
   ]
  },
  {
   "cell_type": "code",
   "execution_count": 9,
   "metadata": {},
   "outputs": [
    {
     "name": "stderr",
     "output_type": "stream",
     "text": [
      "/usr/local/lib/python3.6/dist-packages/sklearn/metrics/_ranking.py:800: UndefinedMetricWarning: No negative samples in y_true, false positive value should be meaningless\n",
      "  UndefinedMetricWarning)\n",
      "/usr/local/lib/python3.6/dist-packages/sklearn/metrics/_ranking.py:88: RuntimeWarning: invalid value encountered in less\n",
      "  if np.any(dx < 0):\n"
     ]
    },
    {
     "data": {
      "image/png": "[encoded data removed]",
      "text/plain": [
       "<Figure size 432x288 with 1 Axes>"
      ]
     },
     "metadata": {
      "needs_background": "light"
     },
     "output_type": "display_data"
    }
   ],
   "source": [
    "metrics.plot_roc_curve(model, test_x, test_y) # To draw the ROC curve, we need negative samples\n",
    "plt.show()"
   ]
  },
  {
   "cell_type": "code",
   "execution_count": 10,
   "metadata": {},
   "outputs": [
    {
     "name": "stdout",
     "output_type": "stream",
     "text": [
      "              precision    recall  f1-score   support\n",
      "\n",
      "           0       0.00      0.00      0.00         0\n",
      "           1       1.00      0.81      0.90      1000\n",
      "\n",
      "    accuracy                           0.81      1000\n",
      "   macro avg       0.50      0.41      0.45      1000\n",
      "weighted avg       1.00      0.81      0.90      1000\n",
      "\n"
     ]
    },
    {
     "name": "stderr",
     "output_type": "stream",
     "text": [
      "/usr/local/lib/python3.6/dist-packages/sklearn/metrics/_classification.py:1272: UndefinedMetricWarning: Recall and F-score are ill-defined and being set to 0.0 in labels with no true samples. Use `zero_division` parameter to control this behavior.\n",
      "  _warn_prf(average, modifier, msg_start, len(result))\n"
     ]
    }
   ],
   "source": [
    "test_pred_y = model.predict(test_x)\n",
    "print(metrics.classification_report(test_y, test_pred_y))"
   ]
  },
  {
   "cell_type": "code",
   "execution_count": null,
   "metadata": {},
   "outputs": [],
   "source": []
  }
 ],
 "metadata": {
  "kernelspec": {
   "display_name": "Python 3",
   "language": "python",
   "name": "python3"
  },
  "language_info": {
   "codemirror_mode": {
    "name": "ipython",
    "version": 3
   },
   "file_extension": ".py",
   "mimetype": "text/x-python",
   "name": "python",
   "nbconvert_exporter": "python",
   "pygments_lexer": "ipython3",
   "version": "3.6.9"
  }
 },
 "nbformat": 4,
 "nbformat_minor": 4
}
